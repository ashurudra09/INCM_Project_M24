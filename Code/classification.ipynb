{
 "cells": [
  {
   "metadata": {},
   "cell_type": "markdown",
   "source": [
    "## Traditional methods of classification:\n",
    "### Setup:"
   ],
   "id": "69db19b04be570d6"
  },
  {
   "cell_type": "code",
   "execution_count": null,
   "id": "initial_id",
   "metadata": {
    "collapsed": true
   },
   "outputs": [],
   "source": [
    "import pandas as pd\n",
    "from sklearn.model_selection import train_test_split\n",
    "from sklearn.preprocessing import StandardScaler\n",
    "from sklearn.linear_model import LogisticRegression\n",
    "from sklearn.neighbors import KNeighborsClassifier\n",
    "from sklearn.svm import SVC\n",
    "from sklearn.tree import DecisionTreeClassifier\n",
    "from sklearn.ensemble import RandomForestClassifier\n",
    "from sklearn.metrics import accuracy_score"
   ]
  },
  {
   "metadata": {},
   "cell_type": "markdown",
   "source": "### Function which acts as classification function:",
   "id": "7e4ec1c6f76d05be"
  },
  {
   "metadata": {},
   "cell_type": "code",
   "outputs": [],
   "execution_count": null,
   "source": [
    "def traditional_classifiers(X, y):\n",
    "    \n",
    "    y = pd.factorize(y)[0]  # This assigns unique integers to each species\n",
    "    X_train, X_test, y_train, y_test = train_test_split(X, y, test_size=0.3, random_state=42)\n",
    "    scaler = StandardScaler()\n",
    "    X_train_scaled = scaler.fit_transform(X_train)\n",
    "    X_test_scaled = scaler.transform(X_test)\n",
    "\n",
    "    # 1. Logistic Regression\n",
    "    logistic_model = LogisticRegression(max_iter=200)\n",
    "    logistic_model.fit(X_train_scaled, y_train)\n",
    "    y_pred_logistic = logistic_model.predict(X_test_scaled)\n",
    "    logistic_accuracy = accuracy_score(y_test, y_pred_logistic)\n",
    "    print(f\"Logistic Regression Accuracy: {logistic_accuracy:.2f}\")\n",
    "\n",
    "    # 2. k-Nearest Neighbors (k-NN)\n",
    "    knn_model = KNeighborsClassifier(n_neighbors=5)\n",
    "    knn_model.fit(X_train, y_train)\n",
    "    y_pred_knn = knn_model.predict(X_test)\n",
    "    knn_accuracy = accuracy_score(y_test, y_pred_knn)\n",
    "    print(f\"k-NN Accuracy: {knn_accuracy:.2f}\")\n",
    "\n",
    "    # 3. Support Vector Machine (SVM)\n",
    "    svm_model = SVC(kernel='linear')\n",
    "    svm_model.fit(X_train_scaled, y_train)\n",
    "    y_pred_svm = svm_model.predict(X_test_scaled)\n",
    "    svm_accuracy = accuracy_score(y_test, y_pred_svm)\n",
    "    print(f\"SVM Accuracy: {svm_accuracy:.2f}\")\n",
    "\n",
    "    # 4. Decision Tree Classifier\n",
    "    tree_model = DecisionTreeClassifier(random_state=42)\n",
    "    tree_model.fit(X_train, y_train)\n",
    "    y_pred_tree = tree_model.predict(X_test)\n",
    "    tree_accuracy = accuracy_score(y_test, y_pred_tree)\n",
    "    print(f\"Decision Tree Accuracy: {tree_accuracy:.2f}\")\n",
    "\n",
    "    # 5. Random Forest Classifier\n",
    "    forest_model = RandomForestClassifier(n_estimators=100, random_state=42)\n",
    "    forest_model.fit(X_train, y_train)\n",
    "    y_pred_forest = forest_model.predict(X_test)\n",
    "    forest_accuracy = accuracy_score(y_test, y_pred_forest)\n",
    "    print(f\"Random Forest Accuracy: {forest_accuracy:.2f}\")\n",
    "    print()\n"
   ],
   "id": "37c94128f4d14d15"
  },
  {
   "metadata": {},
   "cell_type": "markdown",
   "source": "### Classification accuracies for Iris dataset:",
   "id": "dd93ab4ad203a0b1"
  },
  {
   "metadata": {},
   "cell_type": "code",
   "outputs": [],
   "execution_count": null,
   "source": [
    "# Load data from CSV file\n",
    "df = pd.read_csv('../datasets/iris.csv')\n",
    "\n",
    "# Separate features and target variable\n",
    "features = df[['sepal_length', 'sepal_width', 'petal_length', 'petal_width']]\n",
    "target = df['species']\n",
    "\n",
    "print(\"Dataset: iris.csv\")\n",
    "traditional_classifiers(features, target)"
   ],
   "id": "e07306667e3804b"
  },
  {
   "metadata": {},
   "cell_type": "markdown",
   "source": "### Classification accuracies for Penguins dataset:",
   "id": "70698702d5eb6bb4"
  },
  {
   "metadata": {},
   "cell_type": "code",
   "outputs": [],
   "execution_count": null,
   "source": [
    "# Load data from CSV file\n",
    "df = pd.read_csv('../datasets/penguins.csv')\n",
    "# Handle missing values by filling NaNs with the mean of each column\n",
    "numeric_columns = df.select_dtypes(include=['float64', 'int64']).columns\n",
    "df[numeric_columns] = df[numeric_columns].fillna(df[numeric_columns].mean())\n",
    "\n",
    "# Separate features and target variable\n",
    "features = df[['bill_length_mm', 'bill_depth_mm', 'flipper_length_mm', 'body_mass_g']]\n",
    "target = df['species']\n",
    "\n",
    "print(\"Dataset: penguins.csv\")\n",
    "traditional_classifiers(features, target)"
   ],
   "id": "2fd099ada949db21"
  },
  {
   "metadata": {},
   "cell_type": "markdown",
   "source": [
    "---\n",
    "\n",
    "## Neuron Models:\n",
    "### Setup:"
   ],
   "id": "f1347c2ffb57f54e"
  },
  {
   "metadata": {},
   "cell_type": "code",
   "outputs": [],
   "execution_count": null,
   "source": "",
   "id": "a8937c011db756d4"
  },
  {
   "metadata": {},
   "cell_type": "markdown",
   "source": "### Conversion of Data into input signals:",
   "id": "635cd8b629078afb"
  },
  {
   "metadata": {},
   "cell_type": "code",
   "outputs": [],
   "execution_count": null,
   "source": "",
   "id": "6a22113c094f1a5"
  },
  {
   "metadata": {},
   "cell_type": "markdown",
   "source": "### Function which trains and tests neuron models:",
   "id": "6bbff32863369f0d"
  },
  {
   "metadata": {},
   "cell_type": "code",
   "outputs": [],
   "execution_count": null,
   "source": "",
   "id": "f25b8d5fb4b23458"
  },
  {
   "metadata": {},
   "cell_type": "markdown",
   "source": "### Accuracies for Iris dataset:",
   "id": "c7dc46f01055f43d"
  },
  {
   "metadata": {},
   "cell_type": "code",
   "outputs": [],
   "execution_count": null,
   "source": "",
   "id": "69cc9af284d0d870"
  },
  {
   "metadata": {},
   "cell_type": "markdown",
   "source": "### Accuracies for Penguins dataset:",
   "id": "6695a64a8bc53b87"
  },
  {
   "metadata": {},
   "cell_type": "code",
   "outputs": [],
   "execution_count": null,
   "source": "",
   "id": "71a2cb6d2e438a28"
  }
 ],
 "metadata": {
  "kernelspec": {
   "display_name": "Python 3",
   "language": "python",
   "name": "python3"
  },
  "language_info": {
   "codemirror_mode": {
    "name": "ipython",
    "version": 2
   },
   "file_extension": ".py",
   "mimetype": "text/x-python",
   "name": "python",
   "nbconvert_exporter": "python",
   "pygments_lexer": "ipython2",
   "version": "2.7.6"
  }
 },
 "nbformat": 4,
 "nbformat_minor": 5
}
